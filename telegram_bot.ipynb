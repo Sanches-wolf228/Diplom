{
  "cells": [
    {
      "cell_type": "code",
      "execution_count": null,
      "metadata": {
        "id": "x_vZDTRHCUY4"
      },
      "outputs": [],
      "source": [
        "!wget   http://dlib.net/files/shape_predictor_5_face_landmarks.dat.bz2 http://dlib.net/files/dlib_face_recognition_resnet_model_v1.dat.bz2\n",
        "!bunzip2 /content/shape_predictor_5_face_landmarks.dat.bz2 /content/dlib_face_recognition_resnet_model_v1.dat.bz2"
      ]
    },
    {
      "cell_type": "code",
      "execution_count": null,
      "metadata": {
        "id": "UDHXseqY1PG5"
      },
      "outputs": [],
      "source": [
        "!pip install python-telegram-bot==13.0"
      ]
    },
    {
      "cell_type": "code",
      "execution_count": null,
      "metadata": {
        "id": "JNKxbQZb_n7H"
      },
      "outputs": [],
      "source": [
        "import dlib\n",
        "import io\n",
        "import numpy as np\n",
        "from PIL import Image\n",
        "from telegram import InlineQueryResultArticle, InputTextMessageContent\n",
        "from telegram.ext import Updater, CommandHandler\n",
        "from telegram.ext import MessageHandler, Filters, InlineQueryHandler"
      ]
    },
    {
      "cell_type": "code",
      "execution_count": null,
      "metadata": {
        "id": "QdzGYlnQ_klM"
      },
      "outputs": [],
      "source": [
        "face_detector = dlib.get_frontal_face_detector()\n",
        "shape_predictor = dlib.shape_predictor('shape_predictor_5_face_landmarks.dat')\n",
        "face_recognition_model = dlib.face_recognition_model_v1('dlib_face_recognition_resnet_model_v1.dat')"
      ]
    },
    {
      "cell_type": "code",
      "execution_count": null,
      "metadata": {
        "id": "Vz5iHX-v1OBn"
      },
      "outputs": [],
      "source": [
        "TOKEN = '6171938814:AAGLQUEWO8apUUOfwiNSRuBIw2yBHFEeopU'\n",
        "\n",
        "face_count = 0\n",
        "embeddings = [0]\n",
        "\n",
        "def similarity(embed1, embed2):\n",
        "    return 1 - np.linalg.norm(embed1 - embed2)\n",
        "\n",
        "def merge(img1, img2):\n",
        "    h = int(np.round(np.sqrt(img1.size[0] * img2.size[0])))\n",
        "    w = 2 * h\n",
        "\n",
        "    img = Image.new(\"RGB\", (w, h))\n",
        "    img.paste(img1.resize((h, h)))\n",
        "    img.paste(img2.resize((h, h)), (h, 0))\n",
        "\n",
        "    return img\n",
        "\n",
        "def start(update, context):\n",
        "    global face_count\n",
        "    global embeddings\n",
        "    face_count = 0\n",
        "    embeddings = [0]\n",
        "    \n",
        "    context.bot.send_message(chat_id=update.message.chat_id,\n",
        "                             text=\"Hello, I am a bot, I will help you to calculate similarity of different faces.\\n\" \\\n",
        "                             \"You can send me photos with people you want to recognize and use command '/compare a b' and I will tell how similar photos a and b are.\")\n",
        "\n",
        "def handle_photo(update, context):\n",
        "    global face_count\n",
        "    global embeddings\n",
        "    message = update.message\n",
        "    photo = message.photo[~0]\n",
        "    with io.BytesIO() as fd:\n",
        "        file_id = context.bot.get_file(photo.file_id)\n",
        "        file_id.download(out=fd)\n",
        "        fd.seek(0)\n",
        "\n",
        "        image = Image.open(fd)\n",
        "        image.load()\n",
        "    \n",
        "    faces = face_detector(np.array(image), 1)\n",
        "\n",
        "    if len(faces) == 0:\n",
        "        context.bot.send_message(chat_id=update.message.chat_id, text='No faces found')\n",
        "        return\n",
        "    context.bot.send_message(chat_id=update.message.chat_id, text='Found ' + str(len(faces)) + \" face(s)\")\n",
        "\n",
        "    for f in faces:\n",
        "        landmarks = shape_predictor(np.array(image), f)\n",
        "        embedding = face_recognition_model.compute_face_descriptor(np.array(image), landmarks)\n",
        "        embeddings.append(np.array(embedding))\n",
        "\n",
        "        face_count += 1\n",
        "        filename = \"face\"+str(face_count)+\".jpg\"\n",
        "        image.crop([f.left(), f.top(), f.right(), f.bottom()]).save(filename)\n",
        "        context.bot.send_photo(chat_id=update.message.chat_id, photo = open(filename, 'rb'), caption = \"Face \" + str(face_count))\n",
        "\n",
        "def compare(update, context):\n",
        "    global face_count\n",
        "    global embeddings\n",
        "    message = update.message\n",
        "    words = message.text.split()\n",
        "\n",
        "    if len(words) != 3:\n",
        "        context.bot.send_message(chat_id=update.message.chat_id, text=\"Your request should look like '/compare 2 4'\")\n",
        "        return\n",
        "    \n",
        "    try:\n",
        "        n1, n2 = int(words[1]), int(words[2])\n",
        "    except:\n",
        "        context.bot.send_message(chat_id=update.message.chat_id, text=\"It seems, your arguments are not integer numbers\")\n",
        "        return\n",
        "    \n",
        "    if (n1 < 1) or (n2 < 1) or (n1 > face_count) or (n2 > face_count):\n",
        "        context.bot.send_message(chat_id=update.message.chat_id, text=\"It seems, your arguments are out of range, the amount of photos is \" + str(face_count))\n",
        "    else:\n",
        "        sim = similarity(embeddings[n1], embeddings[n2])\n",
        "        img1 = Image.open(\"face\"+str(n1)+\".jpg\")\n",
        "        img2 = Image.open(\"face\"+str(n2)+\".jpg\")\n",
        "        merge(img1, img2).save(\"comparison.jpg\")\n",
        "        context.bot.send_photo(chat_id=update.message.chat_id, photo = open(\"comparison.jpg\", 'rb'),\n",
        "                               caption = \"Similarity of this photos is \" + str(round(sim, 4)))\n",
        "\n",
        "\n",
        "updater = Updater(token=TOKEN)\n",
        "dispatcher = updater.dispatcher\n",
        "\n",
        "photo_handler = MessageHandler(Filters.photo, handle_photo)\n",
        "dispatcher.add_handler(photo_handler)\n",
        "\n",
        "start_handler = CommandHandler('start', start)\n",
        "dispatcher.add_handler(start_handler)\n",
        "\n",
        "compare_handler = CommandHandler('compare', compare)\n",
        "dispatcher.add_handler(compare_handler)\n",
        "\n",
        "updater.start_polling()\n",
        "updater.idle()"
      ]
    }
  ],
  "metadata": {
    "accelerator": "GPU",
    "colab": {
      "provenance": []
    },
    "gpuClass": "standard",
    "kernelspec": {
      "display_name": "Python 3",
      "name": "python3"
    },
    "language_info": {
      "name": "python"
    }
  },
  "nbformat": 4,
  "nbformat_minor": 0
}