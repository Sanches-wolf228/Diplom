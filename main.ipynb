{
  "cells": [
    {
      "cell_type": "code",
      "execution_count": 1,
      "metadata": {
        "tags": [],
        "id": "kYbm6Zz_tIk0",
        "outputId": "d6cf789e-8b84-42d1-c15d-bac1d0cef103",
        "colab": {
          "base_uri": "https://localhost:8080/"
        }
      },
      "outputs": [
        {
          "output_type": "stream",
          "name": "stdout",
          "text": [
            "setup complete\n"
          ]
        }
      ],
      "source": [
        "import sys\n",
        "import os\n",
        "import dlib\n",
        "if 'google.colab' in sys.modules:\n",
        "    os.system(\"pip install python-telegram-bot==13.0\")\n",
        "\n",
        "    os.system('wget http://dlib.net/files/shape_predictor_5_face_landmarks.dat.bz2')\n",
        "    os.system('wget http://dlib.net/files/dlib_face_recognition_resnet_model_v1.dat.bz2')\n",
        "\n",
        "    os.system('bunzip2 /content/shape_predictor_5_face_landmarks.dat.bz2')\n",
        "    os.system('bunzip2 /content/dlib_face_recognition_resnet_model_v1.dat.bz2')\n",
        "\n",
        "    os.system(\"wget https://raw.githubusercontent.com/Sanches-wolf228/Diplom/main/telebot.py\")\n",
        "\n",
        "    print('setup complete')"
      ]
    },
    {
      "cell_type": "code",
      "execution_count": 2,
      "metadata": {
        "tags": [],
        "id": "ghO60UHntIk3"
      },
      "outputs": [],
      "source": [
        "from pydrive.auth import GoogleAuth\n",
        "from pydrive.drive import GoogleDrive\n",
        "from google.colab import auth\n",
        "from oauth2client.client import GoogleCredentials\n",
        "\n",
        "auth.authenticate_user()\n",
        "gauth = GoogleAuth()\n",
        "gauth.credentials = GoogleCredentials.get_application_default()\n",
        "drive = GoogleDrive(gauth)"
      ]
    },
    {
      "cell_type": "code",
      "source": [
        "face_detector = dlib.get_frontal_face_detector()\n",
        "shape_predictor = dlib.shape_predictor('shape_predictor_5_face_landmarks.dat')\n",
        "face_recognition_model = dlib.face_recognition_model_v1('dlib_face_recognition_resnet_model_v1.dat')"
      ],
      "metadata": {
        "id": "BsRqO7oktiCm"
      },
      "execution_count": 3,
      "outputs": []
    },
    {
      "cell_type": "code",
      "source": [
        "from telebot import telebot"
      ],
      "metadata": {
        "id": "FkRLclyNtuk5"
      },
      "execution_count": 4,
      "outputs": []
    },
    {
      "cell_type": "code",
      "source": [
        "Bot = telebot('6124437307:AAEfvHM6KWcmJHkyXm2yBzgYEvqe4Ko4HcA', face_detector, shape_predictor, face_recognition_model, drive)"
      ],
      "metadata": {
        "id": "fOHP5CfLtlni"
      },
      "execution_count": 5,
      "outputs": []
    },
    {
      "cell_type": "code",
      "source": [
        "Bot.run()"
      ],
      "metadata": {
        "id": "oO3trf9otm-q"
      },
      "execution_count": 7,
      "outputs": []
    }
  ],
  "metadata": {
    "kernelspec": {
      "display_name": "Python 3 (ipykernel)",
      "language": "python",
      "name": "python3"
    },
    "language_info": {
      "codemirror_mode": {
        "name": "ipython",
        "version": 3
      },
      "file_extension": ".py",
      "mimetype": "text/x-python",
      "name": "python",
      "nbconvert_exporter": "python",
      "pygments_lexer": "ipython3",
      "version": "3.8.10"
    },
    "colab": {
      "provenance": [],
      "gpuType": "T4"
    },
    "accelerator": "GPU",
    "gpuClass": "standard"
  },
  "nbformat": 4,
  "nbformat_minor": 0
}